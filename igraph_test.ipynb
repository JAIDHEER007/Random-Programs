{
  "nbformat": 4,
  "nbformat_minor": 0,
  "metadata": {
    "colab": {
      "name": "igraph_test.ipynb",
      "provenance": [],
      "authorship_tag": "ABX9TyN91bZECFuxqppuLxia1tnG",
      "include_colab_link": true
    },
    "kernelspec": {
      "name": "python3",
      "display_name": "Python 3"
    },
    "language_info": {
      "name": "python"
    }
  },
  "cells": [
    {
      "cell_type": "markdown",
      "metadata": {
        "id": "view-in-github",
        "colab_type": "text"
      },
      "source": [
        "<a href=\"https://colab.research.google.com/github/JAIDHEER007/Random-Programs/blob/main/igraph_test.ipynb\" target=\"_parent\"><img src=\"https://colab.research.google.com/assets/colab-badge.svg\" alt=\"Open In Colab\"/></a>"
      ]
    },
    {
      "cell_type": "code",
      "execution_count": 13,
      "metadata": {
        "colab": {
          "base_uri": "https://localhost:8080/"
        },
        "id": "Iq7xBsa9fr_9",
        "outputId": "18d77e94-38d5-475f-e60c-d8bdbfdefa8d"
      },
      "outputs": [
        {
          "output_type": "stream",
          "name": "stdout",
          "text": [
            "Requirement already satisfied: igraph in /usr/local/lib/python3.7/dist-packages (0.9.9)\n",
            "Requirement already satisfied: texttable>=1.6.2 in /usr/local/lib/python3.7/dist-packages (from igraph) (1.6.4)\n"
          ]
        }
      ],
      "source": [
        "!pip install igraph"
      ]
    },
    {
      "cell_type": "code",
      "source": [
        "from igraph import *\n",
        "import matplotlib.pyplot as plt\n",
        "# print(igraph.__version__)"
      ],
      "metadata": {
        "id": "4VvWR6waf5NE"
      },
      "execution_count": 14,
      "outputs": []
    },
    {
      "cell_type": "code",
      "source": [
        "g = Graph([(0,1), (0,2), (2,3), (3,4), (4,2), (2,5), (5,0), (6,3), (5,6)])"
      ],
      "metadata": {
        "id": "ZG3bEKfMnENc"
      },
      "execution_count": 15,
      "outputs": []
    },
    {
      "cell_type": "code",
      "source": [
        "g.vs\n",
        "g.vs[\"name\"] = [\"Alice\", \"Bob\", \"Claire\", \"Dennis\", \"Esther\", \"Frank\", \n",
        "                \"George\", \"James\", \"Bond\", \"Ethan\", \"Jason\", \"Rambo\"]\n",
        "g.vs[\"age\"] = [25, 31, 18, 47, 22, 23, 50, 45, 33, 37, 53, 40]\n",
        "g.vs[\"gender\"] = [\"f\", \"m\", \"f\", \"m\", \"f\", \"m\", \"m\", \"m\", \"m\", \"m\", \"m\", \"m\"]\n",
        "g.es[\"is_formal\"] = [False, False, True, True, True, False,\n",
        "                     True, False, False, True, False, False]"
      ],
      "metadata": {
        "id": "WWLTZlAIngAx"
      },
      "execution_count": 16,
      "outputs": []
    },
    {
      "cell_type": "code",
      "source": [
        "g.get_adjacency()"
      ],
      "metadata": {
        "colab": {
          "base_uri": "https://localhost:8080/"
        },
        "id": "bhiZStDsnkXB",
        "outputId": "a7c2ddc6-6b03-4205-a562-015f4b8771ec"
      },
      "execution_count": 17,
      "outputs": [
        {
          "output_type": "execute_result",
          "data": {
            "text/plain": [
              "Matrix([[0, 1, 1, 0, 0, 1, 0], [1, 0, 0, 0, 0, 0, 0], [1, 0, 0, 1, 1, 1, 0], [0, 0, 1, 0, 1, 0, 1], [0, 0, 1, 1, 0, 0, 0], [1, 0, 1, 0, 0, 0, 1], [0, 0, 0, 1, 0, 1, 0]])"
            ]
          },
          "metadata": {},
          "execution_count": 17
        }
      ]
    },
    {
      "cell_type": "code",
      "source": [
        "layouts = [\"circle\", \"drl\", \"fr\", \"kk\", \"large\", \"random\", \"rt\", \"rt_circular\"]"
      ],
      "metadata": {
        "id": "Zk_NRTkvn37y"
      },
      "execution_count": 18,
      "outputs": []
    },
    {
      "cell_type": "code",
      "source": [
        "fig, ax = plt.subplots()\n",
        "_layout = layouts[0]\n",
        "print(_layout)\n",
        "layout = g.layout(_layout)\n",
        "plot(g, layout=layout, target=ax)"
      ],
      "metadata": {
        "colab": {
          "base_uri": "https://localhost:8080/",
          "height": 282
        },
        "id": "QOHzGITQn4uB",
        "outputId": "6beca3ee-dbec-4ca8-8986-0ec3762b00c4"
      },
      "execution_count": 19,
      "outputs": [
        {
          "output_type": "stream",
          "name": "stdout",
          "text": [
            "circle\n"
          ]
        },
        {
          "output_type": "display_data",
          "data": {
            "image/png": "[encoded data removed]",
            "text/plain": [
              "<Figure size 432x288 with 1 Axes>"
            ]
          },
          "metadata": {
            "needs_background": "light"
          }
        }
      ]
    }
  ]
}